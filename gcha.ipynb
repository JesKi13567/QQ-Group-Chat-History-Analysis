{
 "cells": [
  {
   "cell_type": "code",
   "execution_count": null,
   "metadata": {},
   "outputs": [],
   "source": [
    "import csv\n",
    "import re\n",
    "import pandas as pd \n",
    "import numpy as np\n",
    "import seaborn as sns\n",
    "import matplotlib as mpl\n",
    "import matplotlib.pyplot as plt\n",
    "from wordcloud import WordCloud\n",
    "import jieba"
   ]
  },
  {
   "attachments": {},
   "cell_type": "markdown",
   "metadata": {},
   "source": [
    "0.将QQ导入的聊天记录的txt格式转换为csv格式\n",
    "\n",
    "如何导入：\n",
    "\n",
    "一、电脑版QQ左下角“三条杠”点开，右上角有个“消息管理”再打开\n",
    "\n",
    "二、选择任意一个群聊，右键“导出消息记录”\n",
    "\n",
    "三、选择为“txt”格式导出，放在当前路径下"
   ]
  },
  {
   "cell_type": "code",
   "execution_count": null,
   "metadata": {},
   "outputs": [],
   "source": [
    "# TXT变量改为你群名\n",
    "TXT = '你的群名'\n",
    "myTXT = TXT + '.txt'\n",
    "myCSV = TXT + '.csv'"
   ]
  },
  {
   "cell_type": "code",
   "execution_count": null,
   "metadata": {},
   "outputs": [],
   "source": [
    "# 转换格式\n",
    "with open(myTXT, 'r', encoding='utf-8') as f:\n",
    "    lines = f.readlines()[8:]\n",
    "\n",
    "with open(myCSV, 'w', encoding='utf-8', newline='') as f:\n",
    "    writer = csv.writer(f)\n",
    "    writer.writerow(['时间', '用户ID', '用户名', '聊天'])\n",
    "    for i in range(0, len(lines)):\n",
    "        match = re.search(r'(202\\d-\\d{2}-\\d{2} \\d{2}:\\d{2}:\\d{2}) (.*?)(\\(\\d+\\)|\\<.*\\>)', lines[i])\n",
    "        if match:\n",
    "            timestamp = match.group(1)\n",
    "            username = match.group(2)\n",
    "            userid = match.group(3)\n",
    "        else:\n",
    "            chat = lines[i].strip()\n",
    "            writer.writerow([timestamp, userid, username, chat])\n"
   ]
  },
  {
   "cell_type": "code",
   "execution_count": null,
   "metadata": {},
   "outputs": [],
   "source": [
    "# 预处理\n",
    "data = pd.read_csv(myCSV, parse_dates=['时间'])\n",
    "print(np.sum(data.isnull(),axis=0))\n",
    "# 删除聊天中值为 null 或 NaN 的行\n",
    "data = data.dropna(subset=['聊天'])\n",
    "# 保存结果\n",
    "data.to_csv(myCSV, index=False)"
   ]
  },
  {
   "cell_type": "code",
   "execution_count": null,
   "metadata": {},
   "outputs": [],
   "source": [
    "# 检查是否正确\n",
    "data.head(10)"
   ]
  },
  {
   "cell_type": "code",
   "execution_count": null,
   "metadata": {},
   "outputs": [],
   "source": [
    "data.astype({'时间':'datetime64','用户ID':'str','聊天':'str'})\n",
    "data['date'] = data.时间.dt.date\n",
    "data['hour'] = data.时间.dt.hour"
   ]
  },
  {
   "cell_type": "code",
   "execution_count": null,
   "metadata": {},
   "outputs": [],
   "source": [
    "# 记录一共多少用户\n",
    "data.用户ID.nunique()"
   ]
  },
  {
   "cell_type": "code",
   "execution_count": null,
   "metadata": {},
   "outputs": [],
   "source": [
    "df = data.groupby('date').用户ID.nunique().reset_index()\n",
    "plt.figure(figsize=(16,5))\n",
    "sns.set(style='darkgrid',context='notebook',font_scale=1.2)\n",
    "sns.lineplot(data=df,x='date',y='用户ID') \n",
    "plt.title('群聊每日发言用户数量',pad=15,fontdict={'fontsize':20})\n",
    "plt.xticks(df.date,rotation=70)\n",
    "mpl.rcParams['font.sans-serif'] = ['SimHei']"
   ]
  },
  {
   "cell_type": "code",
   "execution_count": null,
   "metadata": {},
   "outputs": [],
   "source": [
    "df = data.groupby('date').聊天.count().reset_index()\n",
    "plt.figure(figsize=(16,5))\n",
    "sns.set(style='darkgrid',context='notebook',font_scale=1.2)\n",
    "sns.lineplot(data=df,x='date',y='聊天') \n",
    "plt.title('群聊每日消息数',pad=15,fontdict={'fontsize':20})\n",
    "plt.xticks(df.date,rotation=70)\n",
    "mpl.rcParams['font.sans-serif'] = ['SimHei']"
   ]
  },
  {
   "cell_type": "code",
   "execution_count": null,
   "metadata": {},
   "outputs": [],
   "source": [
    "df = data.groupby('hour').聊天.count().reset_index()\n",
    "df['hour'] = df.hour.astype('int64')\n",
    "df.sort_values('hour',inplace=True)\n",
    "plt.figure(figsize=(10,5))\n",
    "sns.set(style='darkgrid',context='notebook',font_scale=1.2)\n",
    "sns.lineplot(data=df,x='hour',y='聊天') \n",
    "plt.title('群聊每时段消息数',pad=15,fontdict={'fontsize':20})\n",
    "plt.xticks(df.hour,rotation=70)\n",
    "mpl.rcParams['font.sans-serif'] = ['SimHei']"
   ]
  },
  {
   "cell_type": "code",
   "execution_count": null,
   "metadata": {},
   "outputs": [],
   "source": [
    "df = data.groupby(['date', 'hour']).聊天.count().reset_index().groupby('hour').聊天.mean().reset_index()\n",
    "plt.figure(figsize=(10,5))\n",
    "sns.set(style='darkgrid',context='notebook',font_scale=1.2)\n",
    "sns.lineplot(data=df,x='hour',y='聊天') \n",
    "plt.title('群聊日均每时段消息数',pad=15,fontdict={'fontsize':20})\n",
    "plt.xticks(df.hour,rotation=70)\n",
    "mpl.rcParams['font.sans-serif'] = ['SimHei']\n"
   ]
  },
  {
   "cell_type": "code",
   "execution_count": null,
   "metadata": {},
   "outputs": [],
   "source": [
    "df = data.groupby('用户ID').size().sort_values(ascending=False)\n",
    "df.head(10)"
   ]
  },
  {
   "cell_type": "code",
   "execution_count": null,
   "metadata": {},
   "outputs": [],
   "source": [
    "# 选择要绘制的用户\n",
    "user = '用户名，可从本单元格上方选其一'\n",
    "df = data.groupby(['date', '用户ID']).size().loc[:, user]\n",
    "\n",
    "df.plot(kind='line')\n",
    "plt.title(f'{user} 的每日消息数')\n",
    "plt.xlabel('date')\n",
    "plt.ylabel('消息数')\n",
    "plt.xticks(rotation=70)\n",
    "plt.rcParams['font.sans-serif'] = ['SimHei']\n",
    "plt.show()"
   ]
  },
  {
   "cell_type": "code",
   "execution_count": null,
   "metadata": {},
   "outputs": [],
   "source": [
    "# 停用词\n",
    "# 将用户ID和用户名都作为停用词并做成集合\n",
    "text_stop_set = set(data['用户ID'].astype(str).unique()).union(set(data['用户名'].astype(str).unique()))\n",
    "\n",
    "# 读取常用停用词（也可以在文档末尾添加）\n",
    "with open('stopwords.txt', 'r', encoding='utf-8') as f1:\n",
    "    lines1 = f1.readlines()\n",
    "    for i in range(len(lines1)):\n",
    "        lines1[i] = lines1[i].strip()\n",
    "        text_stop_set.add(lines1[i])\n",
    "\n",
    "# 删除停用词\n",
    "text_chat = list(jieba.lcut_for_search(' '.join(data['聊天'].astype(str).tolist())))\n",
    "text_stop_list = list(jieba.lcut_for_search(' '.join(text_stop_set)))\n",
    "text_gen = ' '.join([x for x in text_chat if x not in text_stop_list])\n",
    "\n",
    "# 显示词云\n",
    "wordcloud = WordCloud(font_path=\"C:\\\\Windows\\\\Fonts\\\\simhei.ttf\",\n",
    "                      scale=4,\n",
    "                      max_words=200,\n",
    "                      background_color='white',\n",
    "                      max_font_size=200,\n",
    "                      min_font_size=1,\n",
    "                      collocations=False,\n",
    "                      width=1600,\n",
    "                      height=1200\n",
    "                      ).generate(text_gen)\n",
    "\n",
    "plt.imshow(wordcloud, interpolation='catrom')\n",
    "plt.axis(\"off\")\n",
    "plt.show()\n"
   ]
  }
 ],
 "metadata": {
  "kernelspec": {
   "display_name": "base",
   "language": "python",
   "name": "python3"
  },
  "language_info": {
   "codemirror_mode": {
    "name": "ipython",
    "version": 3
   },
   "file_extension": ".py",
   "mimetype": "text/x-python",
   "name": "python",
   "nbconvert_exporter": "python",
   "pygments_lexer": "ipython3",
   "version": "3.10.9"
  },
  "orig_nbformat": 4
 },
 "nbformat": 4,
 "nbformat_minor": 2
}
