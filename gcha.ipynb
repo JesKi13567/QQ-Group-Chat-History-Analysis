{
 "cells": [
  {
   "cell_type": "code",
   "execution_count": null,
   "metadata": {},
   "outputs": [],
   "source": [
    "import csv\n",
    "import re\n",
    "import pandas as pd \n",
    "import numpy as np\n",
    "import seaborn as sns\n",
    "import matplotlib as mpl\n",
    "import matplotlib.pyplot as plt\n",
    "from wordcloud import WordCloud"
   ]
  },
  {
   "attachments": {},
   "cell_type": "markdown",
   "metadata": {},
   "source": [
    "0.将QQ导入的聊天记录的txt格式转换为csv格式"
   ]
  },
  {
   "cell_type": "code",
   "execution_count": null,
   "metadata": {},
   "outputs": [],
   "source": [
    "# 先把名字修改了\n",
    "TXT = '群名'\n",
    "myTXT = TXT + '.txt'\n",
    "myCSV = TXT + '.csv'"
   ]
  },
  {
   "cell_type": "code",
   "execution_count": null,
   "metadata": {},
   "outputs": [],
   "source": [
    "# 转换格式\n",
    "with open(myTXT, 'r', encoding='utf-8') as f:\n",
    "    lines = f.readlines()\n",
    "\n",
    "with open(myCSV, 'w', encoding='utf-8', newline='') as f:\n",
    "    writer = csv.writer(f)\n",
    "    writer.writerow(['时间', '用户', '聊天'])\n",
    "    for i in range(0, len(lines), 3):\n",
    "        match = re.search(r'(202\\d-\\d{2}-\\d{2} \\d{2}:\\d{2}:\\d{2}) .*?(\\(\\d+\\)|\\<.*\\>)', lines[i])\n",
    "        if match:\n",
    "            timestamp = match.group(1)\n",
    "            username = match.group(2)\n",
    "            chat = lines[i+1].strip()\n",
    "            writer.writerow([timestamp, username, chat])\n"
   ]
  },
  {
   "cell_type": "code",
   "execution_count": null,
   "metadata": {},
   "outputs": [],
   "source": [
    "# 读取csv\n",
    "data = pd.read_csv(myCSV, parse_dates=['时间'])"
   ]
  },
  {
   "cell_type": "code",
   "execution_count": null,
   "metadata": {},
   "outputs": [],
   "source": [
    "np.sum(data.isnull(),axis=0)"
   ]
  },
  {
   "cell_type": "code",
   "execution_count": null,
   "metadata": {},
   "outputs": [],
   "source": [
    "data.astype({'时间':'datetime64','用户':'str','聊天':'str'})\n",
    "data['date'] = data.时间.dt.date\n",
    "data['hour'] = data.时间.dt.hour"
   ]
  },
  {
   "cell_type": "code",
   "execution_count": null,
   "metadata": {},
   "outputs": [],
   "source": [
    "# 记录一共多少用户\n",
    "data.用户.nunique()"
   ]
  },
  {
   "cell_type": "code",
   "execution_count": null,
   "metadata": {},
   "outputs": [],
   "source": [
    "df = data.groupby('date').用户.nunique().reset_index()\n",
    "plt.figure(figsize=(16,5))\n",
    "sns.set(style='darkgrid',context='notebook',font_scale=1.2)\n",
    "sns.lineplot(data=df,x='date',y='用户') \n",
    "plt.title('群聊每日发言用户数量',pad=15,fontdict={'fontsize':20})\n",
    "plt.xticks(df.date,rotation=70)\n",
    "mpl.rcParams['font.sans-serif'] = ['SimHei']"
   ]
  },
  {
   "cell_type": "code",
   "execution_count": null,
   "metadata": {},
   "outputs": [],
   "source": [
    "df = data.groupby('date').聊天.count().reset_index()\n",
    "\n",
    "plt.figure(figsize=(16,5))\n",
    "sns.set(style='darkgrid',context='notebook',font_scale=1.2)\n",
    "sns.lineplot(data=df,x='date',y='聊天') \n",
    "plt.title('群聊每日消息数',pad=15,fontdict={'fontsize':20})\n",
    "plt.xticks(df.date,rotation=70)\n",
    "mpl.rcParams['font.sans-serif'] = ['SimHei']"
   ]
  },
  {
   "cell_type": "code",
   "execution_count": null,
   "metadata": {},
   "outputs": [],
   "source": [
    "df = data.groupby('hour').聊天.count().reset_index()\n",
    "df['hour'] = df.hour.astype('int64')\n",
    "df.sort_values('hour',inplace=True)\n",
    "\n",
    "plt.figure(figsize=(16,5))\n",
    "sns.set(style='darkgrid',context='notebook',font_scale=1.2)\n",
    "sns.lineplot(data=df,x='hour',y='聊天') \n",
    "plt.title('群聊每时段消息数',pad=15,fontdict={'fontsize':20})\n",
    "plt.xticks(df.hour,rotation=70)\n",
    "mpl.rcParams['font.sans-serif'] = ['SimHei']"
   ]
  },
  {
   "cell_type": "code",
   "execution_count": null,
   "metadata": {},
   "outputs": [],
   "source": [
    "df = data.groupby('用户').size().sort_values(ascending=False)\n",
    "df.head(10)"
   ]
  },
  {
   "cell_type": "code",
   "execution_count": null,
   "metadata": {},
   "outputs": [],
   "source": [
    "# 选择要绘制的用户\n",
    "user = '(QQ号)'\n",
    "df = data.groupby(['date', '用户']).size().loc[:, user]\n",
    "\n",
    "df.plot(kind='line')\n",
    "plt.title(f'{user} 的每日消息数')\n",
    "plt.xlabel('date')\n",
    "plt.ylabel('消息数')\n",
    "plt.xticks(rotation=70)\n",
    "plt.rcParams['font.sans-serif'] = ['SimHei']\n",
    "plt.show()"
   ]
  }
 ],
 "metadata": {
  "kernelspec": {
   "display_name": "base",
   "language": "python",
   "name": "python3"
  },
  "language_info": {
   "codemirror_mode": {
    "name": "ipython",
    "version": 3
   },
   "file_extension": ".py",
   "mimetype": "text/x-python",
   "name": "python",
   "nbconvert_exporter": "python",
   "pygments_lexer": "ipython3",
   "version": "3.10.9"
  },
  "orig_nbformat": 4
 },
 "nbformat": 4,
 "nbformat_minor": 2
}
